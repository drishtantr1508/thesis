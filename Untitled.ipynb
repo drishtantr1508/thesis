{
 "cells": [
  {
   "cell_type": "code",
   "execution_count": 1,
   "id": "dbfa15c4-bce8-43f4-80f7-c1a9346c07db",
   "metadata": {},
   "outputs": [],
   "source": [
    "\"import numpy as np\n",
    "import pandas as pd\n",
    "\n",
    "import matplotlib.pyplot as plt\n",
    "import seaborn as sns\n",
    "\n",
    "from sklearn.model_selection import train_test_split\n",
    "\n",
    "from sklearn.linear_model import LinearRegression, Ridge, Lasso, ElasticNet\n",
    "from sklearn.tree import DecisionTreeRegressor\n",
    "from sklearn.ensemble import RandomForestRegressor, GradientBoostingRegressor\n",
    "from sklearn.metrics import mean_squared_error, r2_score,mean_absolute_error\"\n",
    "\n",
    "Prepare the latex code block for the above code"
   ]
  },
  {
   "cell_type": "code",
   "execution_count": 19,
   "id": "724e4b9b-b55b-4d8c-97e7-6f0999fab037",
   "metadata": {},
   "outputs": [
    {
     "data": {
      "text/html": [
       "<div>\n",
       "<style scoped>\n",
       "    .dataframe tbody tr th:only-of-type {\n",
       "        vertical-align: middle;\n",
       "    }\n",
       "\n",
       "    .dataframe tbody tr th {\n",
       "        vertical-align: top;\n",
       "    }\n",
       "\n",
       "    .dataframe thead th {\n",
       "        text-align: right;\n",
       "    }\n",
       "</style>\n",
       "<table border=\"1\" class=\"dataframe\">\n",
       "  <thead>\n",
       "    <tr style=\"text-align: right;\">\n",
       "      <th></th>\n",
       "      <th>date</th>\n",
       "      <th>% Iron Feed</th>\n",
       "      <th>% Silica Feed</th>\n",
       "      <th>Starch Flow</th>\n",
       "      <th>Amina Flow</th>\n",
       "      <th>Ore Pulp Flow</th>\n",
       "      <th>Ore Pulp pH</th>\n",
       "      <th>Ore Pulp Density</th>\n",
       "      <th>Flotation Column 01 Air Flow</th>\n",
       "      <th>Flotation Column 02 Air Flow</th>\n",
       "      <th>...</th>\n",
       "      <th>Flotation Column 07 Air Flow</th>\n",
       "      <th>Flotation Column 01 Level</th>\n",
       "      <th>Flotation Column 02 Level</th>\n",
       "      <th>Flotation Column 03 Level</th>\n",
       "      <th>Flotation Column 04 Level</th>\n",
       "      <th>Flotation Column 05 Level</th>\n",
       "      <th>Flotation Column 06 Level</th>\n",
       "      <th>Flotation Column 07 Level</th>\n",
       "      <th>% Iron Concentrate</th>\n",
       "      <th>% Silica Concentrate</th>\n",
       "    </tr>\n",
       "  </thead>\n",
       "  <tbody>\n",
       "    <tr>\n",
       "      <th>0</th>\n",
       "      <td>2017-03-10 01:00:00</td>\n",
       "      <td>55.2</td>\n",
       "      <td>16.98</td>\n",
       "      <td>3019.53</td>\n",
       "      <td>557.434</td>\n",
       "      <td>395.713</td>\n",
       "      <td>10.0664</td>\n",
       "      <td>1.74</td>\n",
       "      <td>249.214</td>\n",
       "      <td>253.235</td>\n",
       "      <td>...</td>\n",
       "      <td>250.884</td>\n",
       "      <td>457.396</td>\n",
       "      <td>432.962</td>\n",
       "      <td>424.954</td>\n",
       "      <td>443.558</td>\n",
       "      <td>502.255</td>\n",
       "      <td>446.370</td>\n",
       "      <td>523.344</td>\n",
       "      <td>66.91</td>\n",
       "      <td>1.31</td>\n",
       "    </tr>\n",
       "    <tr>\n",
       "      <th>1</th>\n",
       "      <td>2017-03-10 01:00:00</td>\n",
       "      <td>55.2</td>\n",
       "      <td>16.98</td>\n",
       "      <td>3024.41</td>\n",
       "      <td>563.965</td>\n",
       "      <td>397.383</td>\n",
       "      <td>10.0672</td>\n",
       "      <td>1.74</td>\n",
       "      <td>249.719</td>\n",
       "      <td>250.532</td>\n",
       "      <td>...</td>\n",
       "      <td>248.994</td>\n",
       "      <td>451.891</td>\n",
       "      <td>429.560</td>\n",
       "      <td>432.939</td>\n",
       "      <td>448.086</td>\n",
       "      <td>496.363</td>\n",
       "      <td>445.922</td>\n",
       "      <td>498.075</td>\n",
       "      <td>66.91</td>\n",
       "      <td>1.31</td>\n",
       "    </tr>\n",
       "    <tr>\n",
       "      <th>2</th>\n",
       "      <td>2017-03-10 01:00:00</td>\n",
       "      <td>55.2</td>\n",
       "      <td>16.98</td>\n",
       "      <td>3043.46</td>\n",
       "      <td>568.054</td>\n",
       "      <td>399.668</td>\n",
       "      <td>10.0680</td>\n",
       "      <td>1.74</td>\n",
       "      <td>249.741</td>\n",
       "      <td>247.874</td>\n",
       "      <td>...</td>\n",
       "      <td>248.071</td>\n",
       "      <td>451.240</td>\n",
       "      <td>468.927</td>\n",
       "      <td>434.610</td>\n",
       "      <td>449.688</td>\n",
       "      <td>484.411</td>\n",
       "      <td>447.826</td>\n",
       "      <td>458.567</td>\n",
       "      <td>66.91</td>\n",
       "      <td>1.31</td>\n",
       "    </tr>\n",
       "    <tr>\n",
       "      <th>3</th>\n",
       "      <td>2017-03-10 01:00:00</td>\n",
       "      <td>55.2</td>\n",
       "      <td>16.98</td>\n",
       "      <td>3047.36</td>\n",
       "      <td>568.665</td>\n",
       "      <td>397.939</td>\n",
       "      <td>10.0689</td>\n",
       "      <td>1.74</td>\n",
       "      <td>249.917</td>\n",
       "      <td>254.487</td>\n",
       "      <td>...</td>\n",
       "      <td>251.147</td>\n",
       "      <td>452.441</td>\n",
       "      <td>458.165</td>\n",
       "      <td>442.865</td>\n",
       "      <td>446.210</td>\n",
       "      <td>471.411</td>\n",
       "      <td>437.690</td>\n",
       "      <td>427.669</td>\n",
       "      <td>66.91</td>\n",
       "      <td>1.31</td>\n",
       "    </tr>\n",
       "    <tr>\n",
       "      <th>4</th>\n",
       "      <td>2017-03-10 01:00:00</td>\n",
       "      <td>55.2</td>\n",
       "      <td>16.98</td>\n",
       "      <td>3033.69</td>\n",
       "      <td>558.167</td>\n",
       "      <td>400.254</td>\n",
       "      <td>10.0697</td>\n",
       "      <td>1.74</td>\n",
       "      <td>250.203</td>\n",
       "      <td>252.136</td>\n",
       "      <td>...</td>\n",
       "      <td>248.928</td>\n",
       "      <td>452.441</td>\n",
       "      <td>452.900</td>\n",
       "      <td>450.523</td>\n",
       "      <td>453.670</td>\n",
       "      <td>462.598</td>\n",
       "      <td>443.682</td>\n",
       "      <td>425.679</td>\n",
       "      <td>66.91</td>\n",
       "      <td>1.31</td>\n",
       "    </tr>\n",
       "  </tbody>\n",
       "</table>\n",
       "<p>5 rows × 24 columns</p>\n",
       "</div>"
      ],
      "text/plain": [
       "                  date  % Iron Feed  % Silica Feed  Starch Flow  Amina Flow  \\\n",
       "0  2017-03-10 01:00:00         55.2          16.98      3019.53     557.434   \n",
       "1  2017-03-10 01:00:00         55.2          16.98      3024.41     563.965   \n",
       "2  2017-03-10 01:00:00         55.2          16.98      3043.46     568.054   \n",
       "3  2017-03-10 01:00:00         55.2          16.98      3047.36     568.665   \n",
       "4  2017-03-10 01:00:00         55.2          16.98      3033.69     558.167   \n",
       "\n",
       "   Ore Pulp Flow  Ore Pulp pH  Ore Pulp Density  Flotation Column 01 Air Flow  \\\n",
       "0        395.713      10.0664              1.74                       249.214   \n",
       "1        397.383      10.0672              1.74                       249.719   \n",
       "2        399.668      10.0680              1.74                       249.741   \n",
       "3        397.939      10.0689              1.74                       249.917   \n",
       "4        400.254      10.0697              1.74                       250.203   \n",
       "\n",
       "   Flotation Column 02 Air Flow  ...  Flotation Column 07 Air Flow  \\\n",
       "0                       253.235  ...                       250.884   \n",
       "1                       250.532  ...                       248.994   \n",
       "2                       247.874  ...                       248.071   \n",
       "3                       254.487  ...                       251.147   \n",
       "4                       252.136  ...                       248.928   \n",
       "\n",
       "   Flotation Column 01 Level  Flotation Column 02 Level  \\\n",
       "0                    457.396                    432.962   \n",
       "1                    451.891                    429.560   \n",
       "2                    451.240                    468.927   \n",
       "3                    452.441                    458.165   \n",
       "4                    452.441                    452.900   \n",
       "\n",
       "   Flotation Column 03 Level  Flotation Column 04 Level  \\\n",
       "0                    424.954                    443.558   \n",
       "1                    432.939                    448.086   \n",
       "2                    434.610                    449.688   \n",
       "3                    442.865                    446.210   \n",
       "4                    450.523                    453.670   \n",
       "\n",
       "   Flotation Column 05 Level  Flotation Column 06 Level  \\\n",
       "0                    502.255                    446.370   \n",
       "1                    496.363                    445.922   \n",
       "2                    484.411                    447.826   \n",
       "3                    471.411                    437.690   \n",
       "4                    462.598                    443.682   \n",
       "\n",
       "   Flotation Column 07 Level  % Iron Concentrate  % Silica Concentrate  \n",
       "0                    523.344               66.91                  1.31  \n",
       "1                    498.075               66.91                  1.31  \n",
       "2                    458.567               66.91                  1.31  \n",
       "3                    427.669               66.91                  1.31  \n",
       "4                    425.679               66.91                  1.31  \n",
       "\n",
       "[5 rows x 24 columns]"
      ]
     },
     "execution_count": 19,
     "metadata": {},
     "output_type": "execute_result"
    }
   ],
   "source": [
    "df=pd.read_csv('MiningProcess_Flotation_Plant_Database.csv',decimal=',').drop_duplicates()\n",
    "df.head()"
   ]
  },
  {
   "cell_type": "code",
   "execution_count": 36,
   "id": "cb706e39-5713-44d3-9308-d66b356d75b0",
   "metadata": {},
   "outputs": [
    {
     "data": {
      "text/plain": [
       "<matplotlib.collections.PathCollection at 0x7ba6068c5e10>"
      ]
     },
     "execution_count": 36,
     "metadata": {},
     "output_type": "execute_result"
    },
    {
     "data": {
      "image/png": "[encoded data removed]",
      "text/plain": [
       "<Figure size 640x480 with 1 Axes>"
      ]
     },
     "metadata": {},
     "output_type": "display_data"
    }
   ],
   "source": [
    "plt.scatter(df['% Iron Feed'],df['% Silica Feed'])"
   ]
  },
  {
   "cell_type": "code",
   "execution_count": null,
   "id": "10be91d3-3634-4e2d-bf99-676b46ce59eb",
   "metadata": {},
   "outputs": [],
   "source": []
  },
  {
   "cell_type": "code",
   "execution_count": 32,
   "id": "54ae90f1-8694-471e-b992-816295cfd338",
   "metadata": {},
   "outputs": [
    {
     "data": {
      "text/plain": [
       "['date',\n",
       " '% Iron Feed',\n",
       " '% Silica Feed',\n",
       " 'Starch Flow',\n",
       " 'Amina Flow',\n",
       " 'Ore Pulp Flow',\n",
       " 'Ore Pulp pH',\n",
       " 'Ore Pulp Density',\n",
       " 'Flotation Column 01 Air Flow',\n",
       " 'Flotation Column 02 Air Flow',\n",
       " 'Flotation Column 03 Air Flow',\n",
       " 'Flotation Column 04 Air Flow',\n",
       " 'Flotation Column 05 Air Flow',\n",
       " 'Flotation Column 06 Air Flow',\n",
       " 'Flotation Column 07 Air Flow',\n",
       " 'Flotation Column 01 Level',\n",
       " 'Flotation Column 02 Level',\n",
       " 'Flotation Column 03 Level',\n",
       " 'Flotation Column 04 Level',\n",
       " 'Flotation Column 05 Level',\n",
       " 'Flotation Column 06 Level',\n",
       " 'Flotation Column 07 Level',\n",
       " '% Iron Concentrate',\n",
       " '% Silica Concentrate']"
      ]
     },
     "execution_count": 32,
     "metadata": {},
     "output_type": "execute_result"
    }
   ],
   "source": [
    "list(df.columns)"
   ]
  },
  {
   "cell_type": "code",
   "execution_count": 21,
   "id": "be44aa39-9b83-4caf-9a29-05d3f08cbdf4",
   "metadata": {},
   "outputs": [
    {
     "data": {
      "text/plain": [
       "(736282, 24)"
      ]
     },
     "execution_count": 21,
     "metadata": {},
     "output_type": "execute_result"
    }
   ],
   "source": [
    "df.shape"
   ]
  },
  {
   "cell_type": "markdown",
   "id": "2dd26189-cf4b-480a-a5e3-50f0ba8d447e",
   "metadata": {},
   "source": [
    "# Spliting the data into training and testing set"
   ]
  },
  {
   "cell_type": "code",
   "execution_count": 22,
   "id": "08621525-72c6-4e56-87fd-42f6068a0e94",
   "metadata": {},
   "outputs": [],
   "source": [
    "from sklearn.model_selection import train_test_split"
   ]
  },
  {
   "cell_type": "code",
   "execution_count": 23,
   "id": "f6b8e23c-a732-4018-b56c-90c7f8c2cfda",
   "metadata": {},
   "outputs": [],
   "source": [
    "X = df.drop(['% Silica Concentrate','date'],axis=1)\n",
    "y = df['% Silica Concentrate']\n",
    "X_train, X_test, y_train, y_test = train_test_split(X, y, test_size=0.20, random_state=101)"
   ]
  },
  {
   "cell_type": "code",
   "execution_count": 24,
   "id": "ecddfbe2-e19c-4344-9dc2-3d23a6daacf3",
   "metadata": {},
   "outputs": [
    {
     "name": "stdout",
     "output_type": "stream",
     "text": [
      "(589025, 22)\n"
     ]
    }
   ],
   "source": [
    "print(X_train.shape)"
   ]
  },
  {
   "cell_type": "code",
   "execution_count": 25,
   "id": "ac54ab70-1e7c-4d64-bf6b-fe2273cabdf5",
   "metadata": {},
   "outputs": [
    {
     "name": "stdout",
     "output_type": "stream",
     "text": [
      "(147257, 22)\n",
      "(589025,)\n",
      "(147257,)\n"
     ]
    }
   ],
   "source": [
    "print(X_test.shape)\n",
    "print(y_train.shape)\n",
    "print(y_test.shape)"
   ]
  },
  {
   "cell_type": "markdown",
   "id": "0594dc96-1230-4101-b8df-52c069811f3a",
   "metadata": {},
   "source": [
    "# Training the Models"
   ]
  },
  {
   "cell_type": "markdown",
   "id": "d0887800-db78-433a-849e-5ad63ad551e5",
   "metadata": {},
   "source": [
    "# Training pipeline"
   ]
  },
  {
   "cell_type": "code",
   "execution_count": 29,
   "id": "f0068bfd-084b-4705-a71a-f8f14898ecfc",
   "metadata": {},
   "outputs": [],
   "source": [
    "from sklearn.linear_model import LinearRegression, Ridge, Lasso, ElasticNet\n",
    "from sklearn.tree import DecisionTreeRegressor\n",
    "from sklearn.ensemble import RandomForestRegressor, GradientBoostingRegressor\n",
    "from sklearn.metrics import mean_squared_error, r2_score,mean_absolute_error"
   ]
  },
  {
   "cell_type": "code",
   "execution_count": 26,
   "id": "d6cda03f-ce26-43e6-9603-2538a0d3fb20",
   "metadata": {},
   "outputs": [],
   "source": [
    "class Model:\n",
    "    def __init__(self, X_train, X_test, y_train, y_test):\n",
    "        self.X_train = X_train\n",
    "        self.X_test = X_test\n",
    "        self.y_train = y_train\n",
    "        self.y_test = y_test\n",
    "        self.model = None\n",
    "\n",
    "    def fit_linear_regression(self):\n",
    "        self.model = LinearRegression()\n",
    "        self.model.fit(self.X_train, self.y_train)\n",
    "        return self.evaluate_model()\n",
    "\n",
    "    def fit_ridge(self, alpha=1.0):\n",
    "        self.model = Ridge(alpha=alpha)\n",
    "        self.model.fit(self.X_train, self.y_train)\n",
    "        return self.evaluate_model()\n",
    "\n",
    "    def fit_lasso(self, alpha=1.0):\n",
    "        self.model = Lasso(alpha=alpha)\n",
    "        self.model.fit(self.X_train, self.y_train)\n",
    "        return self.evaluate_model()\n",
    "\n",
    "    def fit_elastic_net(self, alpha=1.0, l1_ratio=0.5):\n",
    "        self.model = ElasticNet(alpha=alpha, l1_ratio=l1_ratio)\n",
    "        self.model.fit(self.X_train, self.y_train)\n",
    "        return self.evaluate_model()\n",
    "\n",
    "    def fit_decision_tree(self, max_depth=None):\n",
    "        self.model = DecisionTreeRegressor(max_depth=max_depth)\n",
    "        self.model.fit(self.X_train, self.y_train)\n",
    "        return self.evaluate_model()\n",
    "\n",
    "    def fit_random_forest(self, n_estimators=100, max_depth=None):\n",
    "        self.model = RandomForestRegressor(n_estimators=n_estimators, max_depth=max_depth)\n",
    "        self.model.fit(self.X_train, self.y_train)\n",
    "        return self.evaluate_model()\n",
    "\n",
    "    def fit_gradient_boosting(self, n_estimators=100, learning_rate=0.1, max_depth=3):\n",
    "        self.model = GradientBoostingRegressor(n_estimators=n_estimators, learning_rate=learning_rate, max_depth=max_depth)\n",
    "        self.model.fit(self.X_train, self.y_train)\n",
    "        return self.evaluate_model()\n",
    "\n",
    "    def evaluate_model(self):\n",
    "        y_pred_train = self.model.predict(self.X_train)\n",
    "        y_pred_test = self.model.predict(self.X_test)\n",
    "        \n",
    "        metrics = {\n",
    "            \"train_mse\": mean_squared_error(self.y_train, y_pred_train),\n",
    "            \"test_mse\": mean_squared_error(self.y_test, y_pred_test),\n",
    "            \"train_mae\": mean_absolute_error(self.y_train, y_pred_train),\n",
    "            \"test_mae\": mean_absoulute_error(self.y_test, y_pred_test),\n",
    "            \"train_r2\": r2_score(self.y_train, y_pred_train),\n",
    "            \"test_r2\": r2_score(self.y_test, y_pred_test)\n",
    "        }\n",
    "        \n",
    "        return metrics"
   ]
  },
  {
   "cell_type": "code",
   "execution_count": 27,
   "id": "efff2b2a-b4a1-4318-a919-792be3f13571",
   "metadata": {},
   "outputs": [],
   "source": [
    "model = Model(X_train,X_test, y_train,y_test)"
   ]
  },
  {
   "cell_type": "code",
   "execution_count": 28,
   "id": "4882238f-b5ba-4dfe-92a8-2abbc7543f69",
   "metadata": {},
   "outputs": [
    {
     "data": {
      "text/plain": [
       "{'train_mse': 0.40606288296394616,\n",
       " 'test_mse': 0.40618859834170973,\n",
       " 'train_r2': 0.6793367504030563,\n",
       " 'test_r2': 0.6801054755719615}"
      ]
     },
     "execution_count": 28,
     "metadata": {},
     "output_type": "execute_result"
    }
   ],
   "source": [
    "model.fit_linear_regression()"
   ]
  },
  {
   "cell_type": "code",
   "execution_count": null,
   "id": "ce3e7b03-78ba-4a5b-b415-9a05a5771c91",
   "metadata": {},
   "outputs": [],
   "source": []
  }
 ],
 "metadata": {
  "kernelspec": {
   "display_name": "Python 3 (ipykernel)",
   "language": "python",
   "name": "python3"
  },
  "language_info": {
   "codemirror_mode": {
    "name": "ipython",
    "version": 3
   },
   "file_extension": ".py",
   "mimetype": "text/x-python",
   "name": "python",
   "nbconvert_exporter": "python",
   "pygments_lexer": "ipython3",
   "version": "3.11.7"
  }
 },
 "nbformat": 4,
 "nbformat_minor": 5
}
